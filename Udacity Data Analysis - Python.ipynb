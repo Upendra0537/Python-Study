{
 "cells": [
  {
   "cell_type": "markdown",
   "metadata": {},
   "source": [
    "##Reading Enrollment Files##"
   ]
  },
  {
   "cell_type": "code",
   "execution_count": 35,
   "metadata": {},
   "outputs": [
    {
     "name": "stdout",
     "output_type": "stream",
     "text": [
      "OrderedDict([('account_key', '448'), ('status', 'canceled'), ('join_date', '2014-11-10'), ('cancel_date', '2015-01-14'), ('days_to_cancel', '65'), ('is_udacity', 'True'), ('is_canceled', 'True')])\n",
      "OrderedDict([('acct', '0'), ('utc_date', '2015-01-09'), ('num_courses_visited', '1.0'), ('total_minutes_visited', '11.6793745'), ('lessons_completed', '0.0'), ('projects_completed', '0.0')])\n",
      "OrderedDict([('creation_date', '2015-01-14'), ('completion_date', '2015-01-16'), ('assigned_rating', 'UNGRADED'), ('account_key', '256'), ('lesson_key', '3176718735'), ('processing_state', 'EVALUATED')])\n",
      "{'account_key': '448', 'status': 'canceled', 'join_date': '2014-11-10', 'cancel_date': '2015-01-14', 'days_to_cancel': '65', 'is_udacity': 'True', 'is_canceled': 'True'}\n",
      "dict_keys(['account_key', 'status', 'join_date', 'cancel_date', 'days_to_cancel', 'is_udacity', 'is_canceled'])\n",
      "dict_values(['448', 'canceled', '2014-11-10', '2015-01-14', '65', 'True', 'True'])\n",
      "OrderedDict([('acct', '0'), ('utc_date', '2015-01-09'), ('num_courses_visited', '1.0'), ('total_minutes_visited', '11.6793745'), ('lessons_completed', '0.0'), ('projects_completed', '0.0')])\n",
      "odict_keys(['acct', 'utc_date', 'num_courses_visited', 'total_minutes_visited', 'lessons_completed', 'projects_completed'])\n",
      "odict_values(['0', '2015-01-09', '1.0', '11.6793745', '0.0', '0.0'])\n",
      "OrderedDict([('creation_date', '2015-01-14'), ('completion_date', '2015-01-16'), ('assigned_rating', 'UNGRADED'), ('account_key', '256'), ('lesson_key', '3176718735'), ('processing_state', 'EVALUATED')])\n",
      "odict_keys(['creation_date', 'completion_date', 'assigned_rating', 'account_key', 'lesson_key', 'processing_state'])\n",
      "odict_values(['2015-01-14', '2015-01-16', 'UNGRADED', '256', '3176718735', 'EVALUATED'])\n"
     ]
    }
   ],
   "source": [
    "import unicodecsv as ucsv\n",
    "\n",
    "enrollmentpath = r'C:\\Users\\Upend\\Anaconda3\\MyScripts\\enrollments.csv'\n",
    "engagementpath = r'C:\\Users\\Upend\\Anaconda3\\MyScripts\\daily_engagement.csv'\n",
    "submissionpath = r'C:\\Users\\Upend\\Anaconda3\\MyScripts\\project_submissions.csv'\n",
    "\n",
    "with open(enrollmentpath,'rb') as f:\n",
    "    reader = ucsv.DictReader(f)\n",
    "    enrollment = list(reader)\n",
    "print(enrollment[0])\n",
    "\n",
    "with open(engagementpath,'rb') as f:\n",
    "    reader = ucsv.DictReader(f)\n",
    "    daily_engagement = list(reader)\n",
    "    \n",
    "print(daily_engagement[0])\n",
    "\n",
    "with open(submissionpath,'rb') as f:\n",
    "    reader = ucsv.DictReader(f)\n",
    "    project_submissions = list(reader)\n",
    "print(project_submissions[0])\n",
    "\n",
    "enrollmentdict = dict(enrollment[0])\n",
    "print(enrollmentdict)\n",
    "print(enrollmentdict.keys())\n",
    "print(enrollmentdict.values())\n",
    "\n",
    "daily_engagement_dict = daily_engagement[0]\n",
    "print(daily_engagement_dict)\n",
    "print(daily_engagement_dict.keys())\n",
    "print(daily_engagement_dict.values())\n",
    "\n",
    "project_submission_dict = project_submissions[0]\n",
    "print(project_submission_dict)\n",
    "print(project_submission_dict.keys())\n",
    "print(project_submission_dict.values())"
   ]
  },
  {
   "cell_type": "markdown",
   "metadata": {},
   "source": [
    "## Function to read the files##"
   ]
  },
  {
   "cell_type": "code",
   "execution_count": 34,
   "metadata": {
    "scrolled": true
   },
   "outputs": [
    {
     "name": "stdout",
     "output_type": "stream",
     "text": [
      "OrderedDict([('account_key', '448'), ('status', 'canceled'), ('join_date', '2014-11-10'), ('cancel_date', '2015-01-14'), ('days_to_cancel', '65'), ('is_udacity', 'True'), ('is_canceled', 'True')])\n",
      "OrderedDict([('account_key', '448'), ('status', 'canceled'), ('join_date', datetime.datetime(2014, 11, 10, 0, 0)), ('cancel_date', datetime.datetime(2015, 1, 14, 0, 0)), ('days_to_cancel', 65), ('is_udacity', True), ('is_canceled', True)])\n",
      "OrderedDict([('acct', '0'), ('utc_date', '2015-01-09'), ('num_courses_visited', '1.0'), ('total_minutes_visited', '11.6793745'), ('lessons_completed', '0.0'), ('projects_completed', '0.0')])\n",
      "OrderedDict([('acct', '0'), ('utc_date', datetime.datetime(2015, 1, 9, 0, 0)), ('num_courses_visited', 1), ('total_minutes_visited', 11.6793745), ('lessons_completed', 0), ('projects_completed', 0)])\n",
      "OrderedDict([('creation_date', '2015-01-14'), ('completion_date', '2015-01-16'), ('assigned_rating', 'UNGRADED'), ('account_key', '256'), ('lesson_key', '3176718735'), ('processing_state', 'EVALUATED')])\n",
      "OrderedDict([('creation_date', datetime.datetime(2015, 1, 14, 0, 0)), ('completion_date', datetime.datetime(2015, 1, 16, 0, 0)), ('assigned_rating', 'UNGRADED'), ('account_key', '256'), ('lesson_key', '3176718735'), ('processing_state', 'EVALUATED')])\n"
     ]
    }
   ],
   "source": [
    "import unicodecsv as ucsv\n",
    "from datetime import datetime as dt\n",
    "\n",
    "enrollmentpath = r'C:\\Users\\Upend\\Anaconda3\\MyScripts\\enrollments.csv'\n",
    "engagementpath = r'C:\\Users\\Upend\\Anaconda3\\MyScripts\\daily_engagement.csv'\n",
    "submissionpath = r'C:\\Users\\Upend\\Anaconda3\\MyScripts\\project_submissions.csv'\n",
    "\n",
    "def read_files(filepath):\n",
    "    with open(filepath,'rb') as f:\n",
    "        reader = ucsv.DictReader(f)\n",
    "        return list(reader)\n",
    "\n",
    "enrollments = read_files(enrollmentpath)\n",
    "daily_engagements = read_files(engagementpath)\n",
    "project_submissions = read_files(submissionpath)\n",
    "\n",
    "def parse_int(intfield):\n",
    "    if intfield == '':\n",
    "        return None\n",
    "    else:\n",
    "        return int(intfield)\n",
    "\n",
    "def parse_date(date):\n",
    "    if date == '':\n",
    "        return None\n",
    "    else:\n",
    "        return dt.strptime(date,'%Y-%m-%d')\n",
    "\n",
    "def parse_float(floatfield):\n",
    "    if floatfield == '':\n",
    "        return None\n",
    "    else:\n",
    "        return float(floatfield)\n",
    "\n",
    "print(enrollments[0])\n",
    "    \n",
    "for enrollment in enrollments:\n",
    "    enrollment['join_date'] = parse_date(enrollment['join_date'])\n",
    "    enrollment['cancel_date'] = parse_date(enrollment['cancel_date'])\n",
    "    enrollment['days_to_cancel'] = parse_int(enrollment['days_to_cancel'])\n",
    "    enrollment['is_udacity'] = (enrollment['is_udacity'] == 'True')\n",
    "    enrollment['is_canceled'] = (enrollment['is_canceled'] == 'True')\n",
    "\n",
    "print(enrollments[0])    \n",
    "\n",
    "print(daily_engagements[0])\n",
    "\n",
    "for daily_engagement in daily_engagements:\n",
    "    daily_engagement['utc_date'] = parse_date(daily_engagement['utc_date'])\n",
    "    daily_engagement['num_courses_visited'] = parse_int(parse_float(daily_engagement['num_courses_visited']))\n",
    "    daily_engagement['total_minutes_visited'] = parse_float(daily_engagement['total_minutes_visited'])\n",
    "    daily_engagement['lessons_completed'] = parse_int(parse_float(daily_engagement['lessons_completed']))\n",
    "    daily_engagement['projects_completed'] = parse_int(parse_float(daily_engagement['projects_completed']))\n",
    "\n",
    "print(daily_engagements[0])    \n",
    "    \n",
    "print(project_submissions[0])\n",
    "\n",
    "for project_submission in project_submissions:\n",
    "    project_submission['creation_date'] = parse_date(project_submission['creation_date'])\n",
    "    project_submission['completion_date'] = parse_date(project_submission['completion_date'])\n",
    "\n",
    "print(project_submissions[0])\n"
   ]
  },
  {
   "cell_type": "code",
   "execution_count": 25,
   "metadata": {},
   "outputs": [
    {
     "name": "stdout",
     "output_type": "stream",
     "text": [
      "2018-11-11 00:00:00\n"
     ]
    }
   ],
   "source": [
    "from datetime import datetime as dt\n",
    "datestring = '2018-11-11'\n",
    "\n",
    "dateformat = dt.strptime(datestring, '%Y-%m-%d')\n",
    "print(dateformat)\n"
   ]
  },
  {
   "cell_type": "markdown",
   "metadata": {},
   "source": [
    "##Modifing the acct header to account_key in daily engagements ##"
   ]
  },
  {
   "cell_type": "code",
   "execution_count": 38,
   "metadata": {},
   "outputs": [
    {
     "name": "stdout",
     "output_type": "stream",
     "text": [
      "OrderedDict([('utc_date', datetime.datetime(2015, 1, 9, 0, 0)), ('num_courses_visited', 1), ('total_minutes_visited', 11.6793745), ('lessons_completed', 0), ('projects_completed', 0), ('account_key', '0')])\n"
     ]
    }
   ],
   "source": [
    "for daily_engagement in daily_engagements:\n",
    "    daily_engagement['account_key'] = daily_engagement['acct']\n",
    "    del(daily_engagement['acct'])\n",
    "\n",
    "print(daily_engagements[0])"
   ]
  },
  {
   "cell_type": "markdown",
   "metadata": {},
   "source": [
    "## finding unique account in each file##"
   ]
  },
  {
   "cell_type": "code",
   "execution_count": 54,
   "metadata": {},
   "outputs": [
    {
     "name": "stdout",
     "output_type": "stream",
     "text": [
      "1640\n",
      "1302\n",
      "136240\n",
      "1237\n",
      "3642\n",
      "743\n"
     ]
    }
   ],
   "source": [
    "def unique_accounts(enrollmentdata):\n",
    "    enrollmentset = set()\n",
    "    for enrollmentelement in enrollmentdata:\n",
    "        enrollmentset.add(enrollmentelement['account_key'])\n",
    "    return enrollmentset\n",
    "\n",
    "print(len(enrollments))\n",
    "unique_enrollment = unique_accounts(enrollments)\n",
    "print(len(unique_enrollment))\n",
    "print(len(daily_engagements))\n",
    "unique_daily_engagements = unique_accounts(daily_engagements)\n",
    "print(len(unique_daily_engagements))\n",
    "print(len(project_submissions))\n",
    "unique_project_submissions = unique_accounts(project_submissions)\n",
    "print(len(unique_project_submissions))"
   ]
  },
  {
   "cell_type": "markdown",
   "metadata": {},
   "source": [
    "## disturbance between the enrollments and daily_engagements"
   ]
  },
  {
   "cell_type": "code",
   "execution_count": 73,
   "metadata": {},
   "outputs": [
    {
     "name": "stdout",
     "output_type": "stream",
     "text": [
      "1129\n",
      "1155\n",
      "711\n",
      "654\n",
      "875\n",
      "1069\n",
      "997\n",
      "789\n",
      "1284\n",
      "1171\n",
      "1191\n",
      "914\n",
      "1101\n",
      "OrderedDict([('account_key', '1101'), ('status', 'current'), ('join_date', datetime.datetime(2015, 2, 25, 0, 0)), ('cancel_date', None), ('days_to_cancel', None), ('is_udacity', True), ('is_canceled', False)])\n",
      "802\n",
      "799\n",
      "926\n",
      "707\n",
      "902\n",
      "884\n",
      "870\n",
      "717\n",
      "1145\n",
      "1044\n",
      "1218\n",
      "1222\n",
      "749\n",
      "1238\n",
      "1025\n",
      "733\n",
      "1291\n",
      "1086\n",
      "1120\n",
      "1219\n",
      "727\n",
      "803\n",
      "819\n",
      "878\n",
      "1010\n",
      "737\n",
      "728\n",
      "1213\n",
      "1125\n",
      "889\n",
      "725\n",
      "1304\n",
      "OrderedDict([('account_key', '1304'), ('status', 'canceled'), ('join_date', datetime.datetime(2015, 1, 10, 0, 0)), ('cancel_date', datetime.datetime(2015, 3, 10, 0, 0)), ('days_to_cancel', 59), ('is_udacity', True), ('is_canceled', True)])\n",
      "OrderedDict([('account_key', '1304'), ('status', 'canceled'), ('join_date', datetime.datetime(2015, 3, 10, 0, 0)), ('cancel_date', datetime.datetime(2015, 6, 17, 0, 0)), ('days_to_cancel', 99), ('is_udacity', True), ('is_canceled', True)])\n",
      "1273\n",
      "1190\n",
      "766\n",
      "1241\n",
      "1237\n",
      "981\n",
      "968\n",
      "1186\n",
      "1063\n",
      "1270\n",
      "871\n",
      "739\n",
      "817\n",
      "664\n",
      "996\n",
      "841\n",
      "750\n",
      "964\n",
      "1148\n",
      "1079\n",
      "abnormal records:  3\n"
     ]
    }
   ],
   "source": [
    "count = 0\n",
    "for enrollmentele in unique_enrollment:\n",
    "    if enrollmentele not in unique_daily_engagements:\n",
    "        print(enrollmentele)   \n",
    "        for enrollment in enrollments:\n",
    "            if enrollment['account_key'] == enrollmentele:\n",
    "                if(enrollment['join_date'] != enrollment['cancel_date'] and enrollment['days_to_cancel'] != 0):\n",
    "                    print(enrollment)\n",
    "                    count += 1\n",
    "                    \n",
    "                    \n",
    "print(\"abnormal records: \", count)\n",
    "    # print(enrollments['account_key']=enrollmentele)\n",
    "        "
   ]
  },
  {
   "cell_type": "markdown",
   "metadata": {},
   "source": [
    "## remove these data points from the Test data##"
   ]
  },
  {
   "cell_type": "code",
   "execution_count": 85,
   "metadata": {},
   "outputs": [
    {
     "name": "stdout",
     "output_type": "stream",
     "text": [
      "{'818', '1304', '1101', '448', '312', '1069'}\n",
      "1622\n",
      "135656\n",
      "3634\n"
     ]
    }
   ],
   "source": [
    "udacity_test_account = set()\n",
    "for enrollment in enrollments:\n",
    "    if enrollment['is_udacity']:\n",
    "        udacity_test_account.add(enrollment['account_key'])\n",
    "\n",
    "print(udacity_test_account)\n",
    "\n",
    "def remove_udacity_test_account(data):\n",
    "    non_udacity_data = []\n",
    "    for element in data:\n",
    "        if element['account_key'] not in udacity_test_account:\n",
    "            non_udacity_data.append(element)\n",
    "    return non_udacity_data\n",
    "\n",
    "non_udacity_enrollments = remove_udacity_test_account(enrollments)\n",
    "non_udacity_daily_engagements = remove_udacity_test_account(daily_engagements)\n",
    "non_udacity_project_submissions = remove_udacity_test_account(project_submissions)\n",
    "print(len(non_udacity_enrollments))\n",
    "print(len(non_udacity_daily_engagements))\n",
    "print(len(non_udacity_project_submissions))"
   ]
  },
  {
   "cell_type": "markdown",
   "metadata": {},
   "source": [
    "## Paid Students##"
   ]
  },
  {
   "cell_type": "code",
   "execution_count": 99,
   "metadata": {},
   "outputs": [
    {
     "name": "stdout",
     "output_type": "stream",
     "text": [
      "OrderedDict([('account_key', '700'), ('status', 'canceled'), ('join_date', datetime.datetime(2014, 11, 10, 0, 0)), ('cancel_date', datetime.datetime(2014, 11, 16, 0, 0)), ('days_to_cancel', 6), ('is_udacity', False), ('is_canceled', True)])\n",
      "1622\n",
      "1215\n",
      "151\n",
      "995\n"
     ]
    }
   ],
   "source": [
    "print(non_udacity_enrollments[0])\n",
    "count = 0\n",
    "overwrite_counter = 0\n",
    "paid_students = dict()\n",
    "\n",
    "print(len(non_udacity_enrollments))\n",
    "for enrollment in non_udacity_enrollments:\n",
    "    if not enrollment['is_canceled'] or enrollment['days_to_cancel'] > 7:\n",
    "        if enrollment['account_key'] in paid_students:\n",
    "            if enrollment['join_date'] > paid_students[enrollment['account_key']]:\n",
    "                paid_students[enrollment['account_key']] = enrollment['join_date']\n",
    "                overwrite_counter += 1\n",
    "        else:\n",
    "            paid_students[enrollment['account_key']] = enrollment['join_date'] \n",
    "        count += 1\n",
    "print(count)\n",
    "print(overwrite_counter)\n",
    "print(len(paid_students))"
   ]
  },
  {
   "cell_type": "markdown",
   "metadata": {},
   "source": [
    "## Paid Students who engaged with in the first one week##"
   ]
  },
  {
   "cell_type": "code",
   "execution_count": 149,
   "metadata": {},
   "outputs": [
    {
     "name": "stdout",
     "output_type": "stream",
     "text": [
      "1293\n",
      "134549\n",
      "3618\n",
      "OrderedDict([('utc_date', datetime.datetime(2015, 1, 9, 0, 0)), ('num_courses_visited', 1), ('total_minutes_visited', 11.6793745), ('lessons_completed', 0), ('projects_completed', 0), ('account_key', '0')])\n",
      "OrderedDict([('utc_date', datetime.datetime(2015, 1, 10, 0, 0)), ('num_courses_visited', 2), ('total_minutes_visited', 37.2848873333), ('lessons_completed', 0), ('projects_completed', 0), ('account_key', '0')])\n",
      "OrderedDict([('utc_date', datetime.datetime(2015, 1, 11, 0, 0)), ('num_courses_visited', 2), ('total_minutes_visited', 53.6337463333), ('lessons_completed', 0), ('projects_completed', 0), ('account_key', '0')])\n",
      "OrderedDict([('utc_date', datetime.datetime(2015, 1, 12, 0, 0)), ('num_courses_visited', 1), ('total_minutes_visited', 33.4892696667), ('lessons_completed', 0), ('projects_completed', 0), ('account_key', '0')])\n",
      "OrderedDict([('utc_date', datetime.datetime(2015, 1, 13, 0, 0)), ('num_courses_visited', 1), ('total_minutes_visited', 64.7796776667), ('lessons_completed', 0), ('projects_completed', 0), ('account_key', '0')])\n",
      "6919\n"
     ]
    }
   ],
   "source": [
    "def with_in_week(join_date,engagement_date):\n",
    "    time_delta = engagement_date - join_date\n",
    "    return time_delta.days < 7 and time_delta.days >=0\n",
    "\n",
    "def remove_free_trail(data):\n",
    "    new_data = []\n",
    "    for data_point in data:\n",
    "        if data_point['account_key'] in paid_students:\n",
    "            new_data.append(data_point)\n",
    "    return new_data\n",
    "\n",
    "paid_enrollments = remove_free_trail(non_udacity_enrollments)\n",
    "paid_engagements = remove_free_trail(non_udacity_daily_engagements)\n",
    "paid_submissions = remove_free_trail(non_udacity_project_submissions)\n",
    "\n",
    "print(len(paid_enrollments))\n",
    "print(len(paid_engagements))\n",
    "print(len(paid_submissions))\n",
    "\n"
   ]
  },
  {
   "cell_type": "code",
   "execution_count": 184,
   "metadata": {},
   "outputs": [],
   "source": [
    "for engagement_record in paid_engagements:\n",
    "    if engagement_record['num_courses_visited'] > 0:\n",
    "        engagement_record['has_visited'] = 1\n",
    "    else:\n",
    "        engagement_record['has_visited'] = 0"
   ]
  },
  {
   "cell_type": "code",
   "execution_count": 185,
   "metadata": {},
   "outputs": [
    {
     "name": "stdout",
     "output_type": "stream",
     "text": [
      "OrderedDict([('utc_date', datetime.datetime(2015, 1, 9, 0, 0)), ('num_courses_visited', 1), ('total_minutes_visited', 11.6793745), ('lessons_completed', 0), ('projects_completed', 0), ('account_key', '0'), ('has_visited', 1)])\n",
      "OrderedDict([('utc_date', datetime.datetime(2015, 1, 10, 0, 0)), ('num_courses_visited', 2), ('total_minutes_visited', 37.2848873333), ('lessons_completed', 0), ('projects_completed', 0), ('account_key', '0'), ('has_visited', 1)])\n",
      "OrderedDict([('utc_date', datetime.datetime(2015, 1, 11, 0, 0)), ('num_courses_visited', 2), ('total_minutes_visited', 53.6337463333), ('lessons_completed', 0), ('projects_completed', 0), ('account_key', '0'), ('has_visited', 1)])\n",
      "OrderedDict([('utc_date', datetime.datetime(2015, 1, 12, 0, 0)), ('num_courses_visited', 1), ('total_minutes_visited', 33.4892696667), ('lessons_completed', 0), ('projects_completed', 0), ('account_key', '0'), ('has_visited', 1)])\n",
      "OrderedDict([('utc_date', datetime.datetime(2015, 1, 13, 0, 0)), ('num_courses_visited', 1), ('total_minutes_visited', 64.7796776667), ('lessons_completed', 0), ('projects_completed', 0), ('account_key', '0'), ('has_visited', 1)])\n",
      "6919\n"
     ]
    }
   ],
   "source": [
    "paid_engagement_in_first_week = []\n",
    "for paid_engagement in paid_engagements:\n",
    "    if with_in_week(paid_students[paid_engagement['account_key']],paid_engagement['utc_date']):\n",
    "    \n",
    "    #if non_udacity_daily_engagements_element['account_key'] in paid_students:\n",
    "     \n",
    "        #if (paid_students[non_udacity_daily_engagements_element['account_key']] - non_udacity_daily_engagements_element['utc_date']).days < 7:\n",
    "            paid_engagement_in_first_week.append(paid_engagement)\n",
    "print(paid_engagement_in_first_week[0])\n",
    "print(paid_engagement_in_first_week[1])\n",
    "print(paid_engagement_in_first_week[2])\n",
    "print(paid_engagement_in_first_week[3])\n",
    "print(paid_engagement_in_first_week[4])\n",
    "print(len(paid_engagement_in_first_week))"
   ]
  },
  {
   "cell_type": "markdown",
   "metadata": {},
   "source": [
    "## average time spent accross the course ##"
   ]
  },
  {
   "cell_type": "markdown",
   "metadata": {},
   "source": [
    "#didnt work - need to look at it later#\n",
    "from collections import defaultdict\n",
    "\n",
    "engagement_by_account = defaultdict(list)\n",
    "for engagement_record in paid_engagement_in_first_week:\n",
    "    account_key = engagement_record['account_key']\n",
    "    print(account_key)\n",
    "    engagement_by_account[account_key].append(engagement_record)\n",
    "    \n",
    "total_minute_per_account = []\n",
    "\n",
    "for account_key, engagement_by_account_record in engagement_by_account.items():\n",
    "    total_min = 0\n",
    "    for engagement_record in engagement_by_account_record:\n",
    "        total_min += engagement_record['total_minutes_visited']\n",
    "    total_minute_per_account[account_key] = total_min\n",
    "\n",
    "total_minutes = total_minute_per_account.values()\n",
    "\n",
    "import numpy as np\n",
    "np.mean(total_minutes)\n",
    "    "
   ]
  },
  {
   "cell_type": "code",
   "execution_count": 186,
   "metadata": {},
   "outputs": [
    {
     "name": "stdout",
     "output_type": "stream",
     "text": [
      "Mean: 306.70832675342825\n",
      "Standard deviation: 412.99693340852957\n",
      "Minimum: 0.0\n",
      "Maximum: 3564.7332644989997\n"
     ]
    }
   ],
   "source": [
    "# Import library\n",
    "from collections import defaultdict\n",
    "\n",
    "# Creates a dictionary of engagement grouped by student\n",
    "# The keys are account keys, and the values are lists of engagement records.\n",
    "engagement_by_account = defaultdict(list)\n",
    "for engagement_record in paid_engagement_in_first_week:\n",
    "    account_key = engagement_record['account_key']\n",
    "    engagement_by_account[account_key].append(engagement_record)\n",
    "\n",
    "    \n",
    "# Creates a dictionary with the total minutes each student spent in the classroom during the first week\n",
    "# The keys are account keys, and the values are numbers (total minutes)\n",
    "total_minutes_by_account = {}\n",
    "for account_key, engagement_for_student in engagement_by_account.items():\n",
    "    total_minutes = 0\n",
    "    for engagement_record in engagement_for_student:\n",
    "        total_minutes += engagement_record['total_minutes_visited']\n",
    "    total_minutes_by_account[account_key] = total_minutes\n",
    "\n",
    "#Import library\n",
    "import numpy as np\n",
    "\n",
    "# Summarize the data about minutes spent in the classroom\n",
    "total_minutes = np.array(list(total_minutes_by_account.values()))\n",
    "print('Mean:', np.mean(total_minutes))\n",
    "print('Standard deviation:', np.std(total_minutes))\n",
    "print('Minimum:', np.min(total_minutes))\n",
    "print('Maximum:', np.max(total_minutes))"
   ]
  },
  {
   "cell_type": "markdown",
   "metadata": {},
   "source": [
    "## looking for issue with data with maximum minutes ##"
   ]
  },
  {
   "cell_type": "code",
   "execution_count": 187,
   "metadata": {},
   "outputs": [
    {
     "name": "stdout",
     "output_type": "stream",
     "text": [
      "OrderedDict([('utc_date', datetime.datetime(2015, 7, 9, 0, 0)), ('num_courses_visited', 4), ('total_minutes_visited', 850.519339666), ('lessons_completed', 4), ('projects_completed', 0), ('account_key', '163'), ('has_visited', 1)])\n",
      "OrderedDict([('utc_date', datetime.datetime(2015, 7, 10, 0, 0)), ('num_courses_visited', 6), ('total_minutes_visited', 872.633923334), ('lessons_completed', 6), ('projects_completed', 0), ('account_key', '163'), ('has_visited', 1)])\n",
      "OrderedDict([('utc_date', datetime.datetime(2015, 7, 11, 0, 0)), ('num_courses_visited', 2), ('total_minutes_visited', 777.018903666), ('lessons_completed', 6), ('projects_completed', 0), ('account_key', '163'), ('has_visited', 1)])\n",
      "OrderedDict([('utc_date', datetime.datetime(2015, 7, 12, 0, 0)), ('num_courses_visited', 1), ('total_minutes_visited', 294.568774), ('lessons_completed', 2), ('projects_completed', 0), ('account_key', '163'), ('has_visited', 1)])\n",
      "OrderedDict([('utc_date', datetime.datetime(2015, 7, 13, 0, 0)), ('num_courses_visited', 3), ('total_minutes_visited', 471.2139785), ('lessons_completed', 1), ('projects_completed', 0), ('account_key', '163'), ('has_visited', 1)])\n",
      "OrderedDict([('utc_date', datetime.datetime(2015, 7, 14, 0, 0)), ('num_courses_visited', 2), ('total_minutes_visited', 298.778345333), ('lessons_completed', 1), ('projects_completed', 0), ('account_key', '163'), ('has_visited', 1)])\n",
      "OrderedDict([('utc_date', datetime.datetime(2015, 7, 15, 0, 0)), ('num_courses_visited', 0), ('total_minutes_visited', 0.0), ('lessons_completed', 0), ('projects_completed', 0), ('account_key', '163'), ('has_visited', 0)])\n"
     ]
    },
    {
     "data": {
      "text/plain": [
       "'counter = 0\\nprint(len(total_minutes_by_account.keys()))\\n\\nfor engagement_key in engagement_by_account.keys():\\n    if total_minutes_by_account[engagement_key] > 3000:\\n        counter += 1\\n        print(\\'account_key: \"  {}  \" total minutes: \"  {}\"\\' .format(engagement_key,str(total_minutes_by_account[engagement_key])  ))\\n        print(engagement_by_account[engagement_key])\\n        \\nprint(counter)'"
      ]
     },
     "execution_count": 187,
     "metadata": {},
     "output_type": "execute_result"
    }
   ],
   "source": [
    "Student_with_max_minutes = None\n",
    "max_minute = 0\n",
    "\n",
    "for student, total_minutes in total_minutes_by_account.items():\n",
    "    if total_minutes > max_minute:\n",
    "        max_minute = total_minutes\n",
    "        Student_with_max_minutes = student\n",
    "        \n",
    "for engagement_record in paid_engagement_in_first_week:\n",
    "    if engagement_record['account_key'] == Student_with_max_minutes:\n",
    "        print(engagement_record)\n",
    "\n",
    "## My code##\n",
    "'''counter = 0\n",
    "print(len(total_minutes_by_account.keys()))\n",
    "\n",
    "for engagement_key in engagement_by_account.keys():\n",
    "    if total_minutes_by_account[engagement_key] > 3000:\n",
    "        counter += 1\n",
    "        print('account_key: \"  {}  \" total minutes: \"  {}\"' .format(engagement_key,str(total_minutes_by_account[engagement_key])  ))\n",
    "        print(engagement_by_account[engagement_key])\n",
    "        \n",
    "print(counter)'''"
   ]
  },
  {
   "cell_type": "markdown",
   "metadata": {},
   "source": [
    "## Lessions completed by students ##"
   ]
  },
  {
   "cell_type": "code",
   "execution_count": 188,
   "metadata": {},
   "outputs": [
    {
     "name": "stdout",
     "output_type": "stream",
     "text": [
      "995\n",
      "Mean :  1.636180904522613\n",
      "standard dev:  3.002561299829423\n",
      "Max:  36\n",
      "Min:  0\n"
     ]
    }
   ],
   "source": [
    "lession_in_first_week = {}\n",
    "\n",
    "\n",
    "for account_keys, engagement_records in engagement_by_account.items():\n",
    "    lession_counter = 0\n",
    "    for engagement in engagement_records:\n",
    "        lession_counter += engagement['lessons_completed']\n",
    "        lession_in_first_week[account_keys] = lession_counter\n",
    "\n",
    "print(len(lession_in_first_week))\n",
    "\n",
    "lession = np.array(list(lession_in_first_week.values()))\n",
    "print(\"Mean : \", np.mean(lession))\n",
    "print(\"standard dev: \", np.std(lession))\n",
    "print(\"Max: \", np.max(lession))\n",
    "print(\"Min: \", np.min(lession))"
   ]
  },
  {
   "cell_type": "markdown",
   "metadata": {},
   "source": [
    "## creating seperate methods for above logics##"
   ]
  },
  {
   "cell_type": "code",
   "execution_count": 189,
   "metadata": {},
   "outputs": [
    {
     "name": "stdout",
     "output_type": "stream",
     "text": [
      "Mean :  306.70832675342825\n",
      "standard dev:  412.99693340852957\n",
      "Max:  3564.7332644989997\n",
      "Min:  0.0\n",
      "Mean :  1.636180904522613\n",
      "standard dev:  3.002561299829423\n",
      "Max:  36\n",
      "Min:  0\n"
     ]
    }
   ],
   "source": [
    "from collections import defaultdict\n",
    "\n",
    "def group_data(data,key_format):\n",
    "    grouped_data = defaultdict(list)\n",
    "    for data_point in data:\n",
    "        key = data_point[key_format]\n",
    "        grouped_data[key].append(data_point)\n",
    "    return grouped_data\n",
    "\n",
    "def sum_grouped_items(grouped_data,field):\n",
    "    sum_data = {}\n",
    "    for key,data_points in grouped_data.items():\n",
    "        total = 0\n",
    "        for data_point in data_points:\n",
    "            total += data_point[field]\n",
    "            sum_data[key] = total\n",
    "    return sum_data\n",
    "\n",
    "import numpy as np\n",
    "\n",
    "def descriptions(data):\n",
    "    print(\"Mean : \", np.mean(data))\n",
    "    print(\"standard dev: \", np.std(data))\n",
    "    print(\"Max: \", np.max(data))\n",
    "    print(\"Min: \", np.min(data))        \n",
    "\n",
    "engagement_by_account = group_data(paid_engagement_in_first_week,'account_key')\n",
    "total_minutes_by_account = sum_grouped_items(engagement_by_account,'total_minutes_visited')\n",
    "total_minutes = list(total_minutes_by_account.values())\n",
    "descriptions(total_minutes)\n",
    "\n",
    "engagement_by_account = group_data(paid_engagement_in_first_week,'account_key')\n",
    "total_lessons_by_account = sum_grouped_items(engagement_by_account,'lessons_completed')\n",
    "total_lessons = list(total_lessons_by_account.values())\n",
    "descriptions(total_lessons)"
   ]
  },
  {
   "cell_type": "markdown",
   "metadata": {},
   "source": [
    "## number of class visited ##"
   ]
  },
  {
   "cell_type": "code",
   "execution_count": 191,
   "metadata": {},
   "outputs": [
    {
     "name": "stdout",
     "output_type": "stream",
     "text": [
      "Mean :  2.8673366834170855\n",
      "standard dev:  2.2551980029196814\n",
      "Max:  7\n",
      "Min:  0\n"
     ]
    }
   ],
   "source": [
    "engagement_by_account = group_data(paid_engagement_in_first_week,'account_key')\n",
    "total_classes_by_account = sum_grouped_items(engagement_by_account,'has_visited')\n",
    "total_classes = list(total_classes_by_account.values())\n",
    "descriptions(total_classes)"
   ]
  },
  {
   "cell_type": "markdown",
   "metadata": {},
   "source": [
    "## passed and failed students ##"
   ]
  },
  {
   "cell_type": "code",
   "execution_count": 210,
   "metadata": {},
   "outputs": [
    {
     "name": "stdout",
     "output_type": "stream",
     "text": [
      "647\n",
      "4527\n",
      "2392\n"
     ]
    }
   ],
   "source": [
    "subway_project_lesson_keys =['746169184','3176718735']\n",
    "pass_status = ['PASSED','DISTINCTION']\n",
    "project_passing = set()\n",
    "passing_engagement = []\n",
    "non_passing_engagement = []\n",
    "\n",
    "for account in paid_submissions:\n",
    "    if account['assigned_rating'] in pass_status and account['lesson_key'] in subway_project_lesson_keys:\n",
    "        project_passing.add(account['account_key'])\n",
    "\n",
    "print(len(project_passing))\n",
    "    \n",
    "for engagement_record in paid_engagement_in_first_week:\n",
    "    if engagement_record['account_key'] in project_passing:\n",
    "        passing_engagement.append(engagement_record)\n",
    "    else:\n",
    "        non_passing_engagement.append(engagement_record)\n",
    "\n",
    "print(len(passing_engagement))\n",
    "print(len(non_passing_engagement))"
   ]
  },
  {
   "cell_type": "markdown",
   "metadata": {},
   "source": [
    "## stats on the passed and non_passed students ##"
   ]
  },
  {
   "cell_type": "code",
   "execution_count": 215,
   "metadata": {},
   "outputs": [
    {
     "name": "stdout",
     "output_type": "stream",
     "text": [
      "Non Pass Stats by visits\n",
      "Mean :  1.9051724137931034\n",
      "standard dev:  1.9057314413619046\n",
      "Max:  7\n",
      "Min:  0\n",
      "Pass Stats by visits\n",
      "Mean :  3.384853168469861\n",
      "standard dev:  2.2588214709184595\n",
      "Max:  7\n",
      "Min:  0\n",
      "Non Pass Stats by lessons_completed\n",
      "Mean :  0.8620689655172413\n",
      "standard dev:  2.5491599418312028\n",
      "Max:  27\n",
      "Min:  0\n",
      "Pass Stats by lessons_completed\n",
      "Mean :  2.052550231839258\n",
      "standard dev:  3.1422270555779344\n",
      "Max:  36\n",
      "Min:  0\n",
      "Non Pass Stats by total minutes\n",
      "Mean :  143.32647426675584\n",
      "standard dev:  269.5386190114951\n",
      "Max:  1768.5227493319999\n",
      "Min:  0.0\n",
      "Pass Stats by total minutes\n",
      "Mean :  394.58604648350865\n",
      "standard dev:  448.4995193265521\n",
      "Max:  3564.7332644989997\n",
      "Min:  0.0\n"
     ]
    }
   ],
   "source": [
    "pass_engagement_by_account = group_data(passing_engagement,'account_key')\n",
    "\n",
    "non_pass_engagement_by_account = group_data(non_passing_engagement,'account_key')\n",
    "\n",
    "print(\"Non Pass Stats by visits\")\n",
    "\n",
    "total_non_pass_days_by_account = sum_grouped_items(non_pass_engagement_by_account,'has_visited')\n",
    "total_non_pass_days = list(total_non_pass_days_by_account.values())\n",
    "descriptions(total_non_pass_days)\n",
    "\n",
    "print(\"Pass Stats by visits\")\n",
    "\n",
    "total_pass_days_by_account = sum_grouped_items(pass_engagement_by_account,'has_visited')\n",
    "total_pass_days = list(total_pass_days_by_account.values())\n",
    "descriptions(total_pass_days)\n",
    "\n",
    "print(\"Non Pass Stats by lessons_completed\")\n",
    "\n",
    "total_non_pass_lesson_by_account = sum_grouped_items(non_pass_engagement_by_account,'lessons_completed')\n",
    "total_non_pass_lesson = list(total_non_pass_lesson_by_account.values())\n",
    "descriptions(total_non_pass_lesson)\n",
    "\n",
    "print(\"Pass Stats by lessons_completed\")\n",
    "\n",
    "total_pass_lesson_by_account = sum_grouped_items(pass_engagement_by_account,'lessons_completed')\n",
    "total_pass_lesson = list(total_pass_lesson_by_account.values())\n",
    "descriptions(total_pass_lesson)\n",
    "\n",
    "print(\"Non Pass Stats by total minutes\")\n",
    "\n",
    "total_non_pass_min_by_account = sum_grouped_items(non_pass_engagement_by_account,'total_minutes_visited')\n",
    "total_non_pass_min = list(total_non_pass_min_by_account.values())\n",
    "descriptions(total_non_pass_min)\n",
    "\n",
    "print(\"Pass Stats by total minutes\")\n",
    "\n",
    "total_pass_min_by_account = sum_grouped_items(pass_engagement_by_account,'total_minutes_visited')\n",
    "total_pass_min = list(total_pass_min_by_account.values())\n",
    "descriptions(total_pass_min)\n"
   ]
  },
  {
   "cell_type": "markdown",
   "metadata": {},
   "source": [
    "## created Halogram for these details ##"
   ]
  },
  {
   "cell_type": "code",
   "execution_count": 230,
   "metadata": {},
   "outputs": [],
   "source": [
    "%matplotlib inline\n",
    "import matplotlib.pyplot as plt\n"
   ]
  },
  {
   "cell_type": "code",
   "execution_count": 236,
   "metadata": {
    "scrolled": true
   },
   "outputs": [
    {
     "data": {
      "text/plain": [
       "Text(0.5,1,'Title of plt')"
      ]
     },
     "execution_count": 236,
     "metadata": {},
     "output_type": "execute_result"
    },
    {
     "data": {
      "image/png": "[encoded data removed]",
      "text/plain": [
       "<Figure size 432x288 with 1 Axes>"
      ]
     },
     "metadata": {
      "needs_background": "light"
     },
     "output_type": "display_data"
    }
   ],
   "source": [
    "#import seaborn as sns\n",
    "data = [1,2,3]\n",
    "plt.hist(data,bins=6)\n",
    "\n",
    "plt.xlabel(\"Label on X-axis\")\n",
    "plt.ylabel(\"Label on Y-axis\")\n",
    "plt.title(\"Title of plt\")"
   ]
  },
  {
   "cell_type": "code",
   "execution_count": 221,
   "metadata": {},
   "outputs": [
    {
     "data": {
      "text/plain": [
       "(array([97., 90., 56.,  0., 41., 15.,  0., 24., 17.,  8.]),\n",
       " array([0. , 0.7, 1.4, 2.1, 2.8, 3.5, 4.2, 4.9, 5.6, 6.3, 7. ]),\n",
       " <a list of 10 Patch objects>)"
      ]
     },
     "execution_count": 221,
     "metadata": {},
     "output_type": "execute_result"
    },
    {
     "data": {
      "image/png": "[encoded data removed]",
      "text/plain": [
       "<Figure size 432x288 with 1 Axes>"
      ]
     },
     "metadata": {
      "needs_background": "light"
     },
     "output_type": "display_data"
    }
   ],
   "source": [
    "plt.hist(total_non_pass_days)"
   ]
  },
  {
   "cell_type": "code",
   "execution_count": 220,
   "metadata": {},
   "outputs": [
    {
     "data": {
      "text/plain": [
       "(array([87., 82., 79.,  0., 91., 77.,  0., 85., 78., 68.]),\n",
       " array([0. , 0.7, 1.4, 2.1, 2.8, 3.5, 4.2, 4.9, 5.6, 6.3, 7. ]),\n",
       " <a list of 10 Patch objects>)"
      ]
     },
     "execution_count": 220,
     "metadata": {},
     "output_type": "execute_result"
    },
    {
     "data": {
      "image/png": "[encoded data removed]",
      "text/plain": [
       "<Figure size 432x288 with 1 Axes>"
      ]
     },
     "metadata": {
      "needs_background": "light"
     },
     "output_type": "display_data"
    }
   ],
   "source": [
    "plt.hist(total_pass_days)"
   ]
  },
  {
   "cell_type": "code",
   "execution_count": 222,
   "metadata": {},
   "outputs": [
    {
     "data": {
      "text/plain": [
       "(array([317.,  17.,   6.,   4.,   1.,   1.,   0.,   1.,   0.,   1.]),\n",
       " array([ 0. ,  2.7,  5.4,  8.1, 10.8, 13.5, 16.2, 18.9, 21.6, 24.3, 27. ]),\n",
       " <a list of 10 Patch objects>)"
      ]
     },
     "execution_count": 222,
     "metadata": {},
     "output_type": "execute_result"
    },
    {
     "data": {
      "image/png": "[encoded data removed]",
      "text/plain": [
       "<Figure size 432x288 with 1 Axes>"
      ]
     },
     "metadata": {
      "needs_background": "light"
     },
     "output_type": "display_data"
    }
   ],
   "source": [
    "plt.hist(total_non_pass_lesson)"
   ]
  },
  {
   "cell_type": "code",
   "execution_count": 223,
   "metadata": {},
   "outputs": [
    {
     "data": {
      "text/plain": [
       "(array([516.,  97.,  23.,   4.,   3.,   3.,   0.,   0.,   0.,   1.]),\n",
       " array([ 0. ,  3.6,  7.2, 10.8, 14.4, 18. , 21.6, 25.2, 28.8, 32.4, 36. ]),\n",
       " <a list of 10 Patch objects>)"
      ]
     },
     "execution_count": 223,
     "metadata": {},
     "output_type": "execute_result"
    },
    {
     "data": {
      "image/png": "[encoded data removed]",
      "text/plain": [
       "<Figure size 432x288 with 1 Axes>"
      ]
     },
     "metadata": {
      "needs_background": "light"
     },
     "output_type": "display_data"
    }
   ],
   "source": [
    "plt.hist(total_pass_lesson)"
   ]
  },
  {
   "cell_type": "code",
   "execution_count": 224,
   "metadata": {},
   "outputs": [
    {
     "data": {
      "text/plain": [
       "(array([272.,  34.,  17.,   9.,   6.,   2.,   1.,   5.,   0.,   2.]),\n",
       " array([   0.        ,  176.85227493,  353.70454987,  530.5568248 ,\n",
       "         707.40909973,  884.26137467, 1061.1136496 , 1237.96592453,\n",
       "        1414.81819947, 1591.6704744 , 1768.52274933]),\n",
       " <a list of 10 Patch objects>)"
      ]
     },
     "execution_count": 224,
     "metadata": {},
     "output_type": "execute_result"
    },
    {
     "data": {
      "image/png": "[encoded data removed]",
      "text/plain": [
       "<Figure size 432x288 with 1 Axes>"
      ]
     },
     "metadata": {
      "needs_background": "light"
     },
     "output_type": "display_data"
    }
   ],
   "source": [
    "plt.hist(total_non_pass_min)"
   ]
  },
  {
   "cell_type": "code",
   "execution_count": 225,
   "metadata": {},
   "outputs": [
    {
     "data": {
      "text/plain": [
       "(array([370., 155.,  83.,  19.,  10.,   4.,   2.,   3.,   0.,   1.]),\n",
       " array([   0.        ,  356.47332645,  712.9466529 , 1069.41997935,\n",
       "        1425.8933058 , 1782.36663225, 2138.8399587 , 2495.31328515,\n",
       "        2851.7866116 , 3208.25993805, 3564.7332645 ]),\n",
       " <a list of 10 Patch objects>)"
      ]
     },
     "execution_count": 225,
     "metadata": {},
     "output_type": "execute_result"
    },
    {
     "data": {
      "image/png": "[encoded data removed]",
      "text/plain": [
       "<Figure size 432x288 with 1 Axes>"
      ]
     },
     "metadata": {
      "needs_background": "light"
     },
     "output_type": "display_data"
    }
   ],
   "source": [
    "plt.hist(total_pass_min)"
   ]
  },
  {
   "cell_type": "code",
   "execution_count": 226,
   "metadata": {},
   "outputs": [],
   "source": []
  },
  {
   "cell_type": "code",
   "execution_count": null,
   "metadata": {},
   "outputs": [],
   "source": []
  }
 ],
 "metadata": {
  "kernelspec": {
   "display_name": "Python 3",
   "language": "python",
   "name": "python3"
  },
  "language_info": {
   "codemirror_mode": {
    "name": "ipython",
    "version": 3
   },
   "file_extension": ".py",
   "mimetype": "text/x-python",
   "name": "python",
   "nbconvert_exporter": "python",
   "pygments_lexer": "ipython3",
   "version": "3.7.0"
  }
 },
 "nbformat": 4,
 "nbformat_minor": 2
}
